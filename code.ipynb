{
 "cells": [
  {
   "cell_type": "code",
   "execution_count": null,
   "id": "64b6cf7c-4e91-43a3-aa43-2e4dde6ee1ee",
   "metadata": {},
   "outputs": [],
   "source": [
    "import geopandas as gpd\n",
    "import pandas as pd\n",
    "import numpy as np\n",
    "import os\n",
    "from pygini import gini"
   ]
  },
  {
   "cell_type": "code",
   "execution_count": null,
   "id": "81bd8e90-aad6-44d9-bfe7-72ddcfd1b47c",
   "metadata": {},
   "outputs": [],
   "source": [
    "import warnings\n",
    "warnings.filterwarnings('ignore')"
   ]
  },
  {
   "cell_type": "code",
   "execution_count": null,
   "id": "39f341f8-02ad-4926-be06-e641212d952a",
   "metadata": {},
   "outputs": [],
   "source": [
    "root = r'E:\\urban_intensity0801'"
   ]
  },
  {
   "cell_type": "code",
   "execution_count": null,
   "id": "9fe37345-a42f-4eb2-a8ab-06f5bb40ce96",
   "metadata": {},
   "outputs": [],
   "source": [
    "file1 = os.path.join(root, r'output\\smod_gte21_point.shp')\n",
    "df1 = gpd.read_file(file1)#.to_crs(4326)\n",
    "df1.replace(-9999, 0, inplace=True)"
   ]
  },
  {
   "cell_type": "code",
   "execution_count": null,
   "id": "0ec9eff7-704c-4d92-9e53-4f671e3d685e",
   "metadata": {},
   "outputs": [],
   "source": [
    "file2 = os.path.join(root, r'output\\GRIP4_Road_ID.csv')\n",
    "df2 = pd.read_csv(file2)"
   ]
  },
  {
   "cell_type": "code",
   "execution_count": null,
   "id": "47421164-8a6b-49fe-96e1-e6beb6ea3ace",
   "metadata": {},
   "outputs": [],
   "source": [
    "for i in range(1,6):\n",
    "    print(i)\n",
    "    df2_type = df2.loc[df2['GP_RTP']==i, ['Id','Shape_Length']]\n",
    "    df2_type_sum = df2_type.groupby('Id').sum().reset_index().rename(columns={'Shape_Length':'Length'+str(i)})\n",
    "    df2_type_sum.to_csv('road_id_type'+str(i)+'.csv', index=False)"
   ]
  },
  {
   "cell_type": "code",
   "execution_count": null,
   "id": "84d89ba3-23e8-4f2b-9f7d-bac45488080b",
   "metadata": {},
   "outputs": [],
   "source": [
    "df2_type1 = pd.read_csv('road_id_type1.csv')\n",
    "for i in range(2,6):\n",
    "    df2_type = pd.read_csv('road_id_type'+str(i)+'.csv')\n",
    "    df2_type1 = pd.merge(df2_type1, df2_type, how='outer')\n",
    "df2_type1.fillna(0, inplace=True)\n",
    "df2_type1['Length_total'] = df2_type1.iloc[:,1:].sum(axis=1, numeric_only=True)\n",
    "df2_type1.to_csv('road_id_total.csv',index=False)"
   ]
  },
  {
   "cell_type": "code",
   "execution_count": null,
   "id": "a586e87b-e900-4861-a6f0-6c0ea00f3ae1",
   "metadata": {},
   "outputs": [],
   "source": [
    "file3 = os.path.join(root, r'output\\GHS_FUA.csv')\n",
    "df3 = pd.read_csv(file3)"
   ]
  },
  {
   "cell_type": "code",
   "execution_count": null,
   "id": "d2707264-3d9e-4709-b8c6-3ab78a86774b",
   "metadata": {},
   "outputs": [],
   "source": [
    "file4 = os.path.join(root, r'output\\FUA_IsSouth.csv')\n",
    "df4 = pd.read_csv(file4)"
   ]
  },
  {
   "cell_type": "code",
   "execution_count": null,
   "id": "8da665c7-e7ab-483f-bd31-b2b6370926ee",
   "metadata": {},
   "outputs": [],
   "source": [
    "df_merge = pd.merge(pd.merge(df1.rename(columns={'pointid':'Id'}), df2_type1, how='outer'), \n",
    "                    df3.loc[:,['eFUA_ID','eFUA_name','Cntry_ISO','Cntry_name']], on='eFUA_ID')\n",
    "df_merge.fillna(0, inplace=True)"
   ]
  },
  {
   "cell_type": "code",
   "execution_count": null,
   "id": "55f175cd-23a8-40f7-874f-84a053751277",
   "metadata": {},
   "outputs": [],
   "source": [
    "df_merge['Regions'] = 'North'\n",
    "df_merge.loc[df_merge['eFUA_ID'].isin(Is_South_eFUA_ID),'Regions'] = 'South'\n",
    "df_merge['Regions']"
   ]
  },
  {
   "cell_type": "code",
   "execution_count": null,
   "id": "1dc2f078-dc99-4eb0-900b-0da5c2be1409",
   "metadata": {},
   "outputs": [],
   "source": [
    "df_cntry1 = df_merge.loc[:,['Cntry_name','Regions']].drop_duplicates()\n",
    "df_cntry2 = df_merge.loc[:,['Cntry_name','Regions']].drop_duplicates(subset='Cntry_name')"
   ]
  },
  {
   "cell_type": "code",
   "execution_count": null,
   "id": "dc774158-9784-4e89-8f62-ffc3f7ed00c1",
   "metadata": {},
   "outputs": [],
   "source": [
    "df_merge.loc[df_merge['Cntry_name']=='Israel', 'Regions'] = 'North'\n",
    "df_merge.loc[df_merge['Cntry_name']=='Turkey', 'Regions'] = 'South'\n",
    "df_merge.loc[df_merge['Cntry_name']=='Kazakhstan', 'Regions'] = 'South'\n",
    "df_merge.loc[df_merge['Cntry_name']=='NorthKorea', 'Regions'] = 'South'"
   ]
  },
  {
   "cell_type": "code",
   "execution_count": null,
   "id": "cd259011-4b58-403d-89d3-b3625888d700",
   "metadata": {},
   "outputs": [],
   "source": [
    "# check\n",
    "df_cntry1 = df_merge.loc[:,['Cntry_name','Regions']].drop_duplicates()\n",
    "df_cntry2 = df_merge.loc[:,['Cntry_name','Regions']].drop_duplicates(subset='Cntry_name')\n",
    "print(len(df_cntry1), len(df_cntry2))"
   ]
  },
  {
   "cell_type": "code",
   "execution_count": null,
   "id": "10662a02-5743-4a7b-9c59-9fdeefe368ed",
   "metadata": {},
   "outputs": [],
   "source": [
    "df_merge['pop_log'] = np.log(df_merge['Pop']+1)\n",
    "df_merge['ntl_log'] = np.log(df_merge['LongNTL']+1)"
   ]
  },
  {
   "cell_type": "code",
   "execution_count": null,
   "id": "9ffabb87-430b-4381-a73b-974f5c9f98b8",
   "metadata": {},
   "outputs": [],
   "source": [
    "def norm_col(df, col_name):\n",
    "    df[col_name+'01'] = (df[col_name]-df[col_name].min())/(df[col_name].max()-df[col_name].min())\n",
    "    return df"
   ]
  },
  {
   "cell_type": "code",
   "execution_count": null,
   "id": "80cbda59-8ef9-45fb-86ae-4223959eb9fd",
   "metadata": {},
   "outputs": [],
   "source": [
    "norm_col(df_merge, 'pop_log')\n",
    "norm_col(df_merge, 'ntl_log')\n",
    "norm_col(df_merge, 'Length_total')\n",
    "\n",
    "norm_col(df_merge, 'BUILT_S')\n",
    "norm_col(df_merge, 'BUILT_V')\n",
    "df_merge['built'] = df_merge['BUILT_S01'] + df_merge['BUILT_V01']\n",
    "norm_col(df_merge, 'built')"
   ]
  },
  {
   "cell_type": "code",
   "execution_count": null,
   "id": "4ca3bb41-4e4c-4088-9228-52779f37869b",
   "metadata": {},
   "outputs": [],
   "source": [
    "def norm01(df_merge, colname):\n",
    "    df_merge[colname+'n'] = (df_merge[colname] - df_merge[colname].min())/(df_merge[colname].max() - df_merge[colname].min())"
   ]
  },
  {
   "cell_type": "code",
   "execution_count": null,
   "id": "9bd415bf-dc05-4d01-9ac7-c59acb2217e1",
   "metadata": {},
   "outputs": [],
   "source": [
    "df_merge['udi01'] = (df_merge['built01']+df_merge['ntl_log01']+df_merge['pop_log01']+df_merge['Length_total01'])/4\n",
    "norm01(df_merge, 'udi01')"
   ]
  },
  {
   "cell_type": "code",
   "execution_count": null,
   "id": "217a18fb-26cc-4492-bb6a-0aa32c5f4149",
   "metadata": {},
   "outputs": [],
   "source": [
    "df_index = df_merge.loc[:,['built01','pop_log01', 'Length_total01', 'ntl_log01']]"
   ]
  },
  {
   "cell_type": "code",
   "execution_count": null,
   "id": "fd38145b-4879-4055-891a-39e9689c3b54",
   "metadata": {},
   "outputs": [],
   "source": [
    "from sklearn.decomposition import PCA\n",
    "from sklearn.preprocessing import StandardScaler\n",
    "\n",
    "scaler = StandardScaler()\n",
    "normalized_data = scaler.fit_transform(df_index)\n",
    "\n",
    "pca = PCA(n_components=4)\n",
    "pca.fit(normalized_data)\n",
    "\n",
    "transformed_data = pca.transform(normalized_data)\n",
    "explained_variance_ratios = pca.explained_variance_ratio_\n",
    "print(\"Transformed Data:\\n\", transformed_data)\n",
    "print(\"\\nExplained Variance Ratios:\\n\", explained_variance_ratios)"
   ]
  },
  {
   "cell_type": "code",
   "execution_count": null,
   "id": "f263b346-3062-440e-a79a-7f9f1e6f7260",
   "metadata": {},
   "outputs": [],
   "source": [
    "loadings = pca.components_.T / np.sqrt(pca.explained_variance_)\n",
    "loadings_matrix = pd.DataFrame(loadings, columns=['PC1','PC2','PC3','PC4'], index=df_index.columns)"
   ]
  },
  {
   "cell_type": "code",
   "execution_count": null,
   "id": "63cd1fed-6216-4f68-8e86-4d74cfdbe4ea",
   "metadata": {},
   "outputs": [],
   "source": [
    "num = 3\n",
    "weight = []\n",
    "for i in range(0, 4):\n",
    "    weight.append((loadings[i][:num]*explained_variance_ratios[:num]).sum()/(explained_variance_ratios[:num].sum()))\n",
    "weight = np.array(weight)\n",
    "norm_weight = weight/(weight.sum())\n",
    "pd.DataFrame({'weight':norm_weight}, index=df_index.columns)"
   ]
  },
  {
   "cell_type": "code",
   "execution_count": null,
   "id": "cc7f63d7-ad32-4795-98f6-c98145158139",
   "metadata": {},
   "outputs": [],
   "source": [
    "df_merge['udi01w'] = ((np.array(df_index)*norm_weight).T).sum(axis=0)\n",
    "norm01(df_merge, 'udi01w')"
   ]
  },
  {
   "cell_type": "code",
   "execution_count": null,
   "id": "a6ac8791-c9f2-44d6-ab75-974681da2734",
   "metadata": {},
   "outputs": [],
   "source": [
    "def norm_col19(df, col_name):\n",
    "    df[col_name+'19'] = 0.1+((df[col_name]-df[col_name].min())/(df[col_name].max()-df[col_name].min()))*(0.9-0.1)\n",
    "    return df"
   ]
  },
  {
   "cell_type": "code",
   "execution_count": null,
   "id": "ebed8852-f220-44f9-be78-9c0cc287298b",
   "metadata": {},
   "outputs": [],
   "source": [
    "norm_col19(df_merge, 'pop_log')\n",
    "norm_col19(df_merge, 'ntl_log')\n",
    "norm_col19(df_merge, 'Length_total')\n",
    "\n",
    "norm_col19(df_merge, 'BUILT_S')\n",
    "norm_col19(df_merge, 'BUILT_V')\n",
    "df_merge['built_mu'] = np.sqrt(df_merge['BUILT_S19'] * df_merge['BUILT_V19'])\n",
    "norm_col19(df_merge, 'built_mu')"
   ]
  },
  {
   "cell_type": "code",
   "execution_count": null,
   "id": "da22208c-6340-4702-9466-58e427f6e71b",
   "metadata": {},
   "outputs": [],
   "source": [
    "df_merge['udi19'] = np.power((df_merge['built_mu19']*df_merge['ntl_log19']*df_merge['pop_log19']*df_merge['Length_total19']),1/4)\n",
    "norm01(df_merge, 'udi19')"
   ]
  },
  {
   "cell_type": "code",
   "execution_count": null,
   "id": "8a8f6abd-d0eb-4fe5-99b4-7706cb9eabe0",
   "metadata": {},
   "outputs": [],
   "source": [
    "df_index = df_merge.loc[:,['built_mu19','pop_log19', 'Length_total19', 'ntl_log19']]"
   ]
  },
  {
   "cell_type": "code",
   "execution_count": null,
   "id": "5c0496b3-1c49-4505-9b1c-6c8722765b35",
   "metadata": {},
   "outputs": [],
   "source": [
    "from sklearn.preprocessing import StandardScaler\n",
    "\n",
    "scaler = StandardScaler()\n",
    "normalized_data = scaler.fit_transform(df_index)\n",
    "\n",
    "pca = PCA(n_components=4)\n",
    "pca.fit(normalized_data)\n",
    "\n",
    "transformed_data = pca.transform(normalized_data)\n",
    "explained_variance_ratios = pca.explained_variance_ratio_\n",
    "print(\"Transformed Data:\\n\", transformed_data)\n",
    "print(\"\\nExplained Variance Ratios:\\n\", explained_variance_ratios)"
   ]
  },
  {
   "cell_type": "code",
   "execution_count": null,
   "id": "6dac1822-685f-42d9-84db-739dc5631455",
   "metadata": {},
   "outputs": [],
   "source": [
    "loadings = pca.components_.T / np.sqrt(pca.explained_variance_)\n",
    "loadings_matrix = pd.DataFrame(loadings, columns=['PC1','PC2','PC3','PC4'], index=df_index.columns)\n",
    "loadings_matrix"
   ]
  },
  {
   "cell_type": "code",
   "execution_count": null,
   "id": "90d8abbb-d143-4c78-9642-1e9911c60471",
   "metadata": {},
   "outputs": [],
   "source": [
    "num = 3\n",
    "weight = []\n",
    "for i in range(0, 4):\n",
    "    weight.append((loadings[i][:num]*explained_variance_ratios[:num]).sum()/(explained_variance_ratios[:num].sum()))\n",
    "weight = np.array(weight)\n",
    "norm_weight = weight/(weight.sum())\n",
    "pd.DataFrame({'weight':norm_weight}, index=df_index.columns)"
   ]
  },
  {
   "cell_type": "code",
   "execution_count": null,
   "id": "afad1084-0c07-44f1-bf2e-24c51173e076",
   "metadata": {},
   "outputs": [],
   "source": [
    "df_merge['udi19w'] = df_index.apply(lambda x: np.power(x, norm_weight).prod(), axis=1)\n",
    "norm01(df_merge, 'udi19w')"
   ]
  },
  {
   "cell_type": "code",
   "execution_count": null,
   "id": "2e9ff3f3-9335-4d11-a096-445e8f0990a0",
   "metadata": {},
   "outputs": [],
   "source": [
    "geo_file_root = './geo_file'\n",
    "if not os.path.exists(geo_file_root):\n",
    "    os.mkdir(geo_file_root)"
   ]
  },
  {
   "cell_type": "code",
   "execution_count": null,
   "id": "063aa915-b93c-412a-8c77-49dbab0d78d4",
   "metadata": {},
   "outputs": [],
   "source": [
    "gpd.GeoDataFrame(df_merge).to_file(os.path.join(geo_file_root, '20230806point.shp'), driver='ESRI Shapefile',encoding='utf-8')"
   ]
  },
  {
   "cell_type": "code",
   "execution_count": null,
   "id": "e29c9095-e373-4137-a953-73b48ebb9d49",
   "metadata": {},
   "outputs": [],
   "source": [
    "df_merge_udi = df_merge.loc[:,['eFUA_ID', 'eFUA_name', 'Cntry_ISO', 'Cntry_name', 'Regions', 'udi01n', 'udi01wn', 'udi19n', 'udi19wn']]\n",
    "df_merge_udi_mean = df_merge_udi.groupby(['eFUA_ID', 'eFUA_name', 'Cntry_ISO', 'Cntry_name', 'Regions']).mean().reset_index()\n",
    "df_merge_udi_sum = df_merge_udi.groupby(['eFUA_ID', 'eFUA_name', 'Cntry_ISO', 'Cntry_name', 'Regions']).sum().reset_index()"
   ]
  },
  {
   "cell_type": "code",
   "execution_count": null,
   "id": "a0d47f69-e233-4b8c-a938-6828c4b6bd60",
   "metadata": {},
   "outputs": [],
   "source": [
    "df_merge_mean_sum = pd.merge(df_merge_udi_mean.iloc[:,[0,-4,-3,-2,-1]].rename(columns={'udi01n':\"udi01_m\",'udi01wn':'udi01w_m','udi19n':'udi19_m','udi19wn':'udi19w_m'}),\n",
    "                             df_merge_udi_sum.iloc[:,[0,-4,-3,-2,-1]].rename(columns={'udi01n':\"udi01_s\",'udi01wn':'udi01w_s','udi19n':'udi19_s','udi19wn':'udi19w_s'}))"
   ]
  },
  {
   "cell_type": "code",
   "execution_count": null,
   "id": "9b68e369-36e9-439d-bbf1-c4dfd18efcb6",
   "metadata": {},
   "outputs": [],
   "source": [
    "df_merge.loc[df_merge['Cntry_name'].isin(['Taiwan', 'HongKong', 'Macao']),'Cntry_ISO'] = 'CHN'\n",
    "df_merge.loc[df_merge['Cntry_name'].isin(['Taiwan', 'HongKong', 'Macao']),'Cntry_name'] = 'China'"
   ]
  },
  {
   "cell_type": "code",
   "execution_count": null,
   "id": "06dc0c2e-cdcb-4db7-8e90-f715c826fa5c",
   "metadata": {},
   "outputs": [],
   "source": [
    "import copy\n",
    "df_merge_copy = copy.deepcopy(df_merge)\n",
    "df_merge_copy = df_merge_copy.loc[df_merge['grid_code']>=21, :]\n",
    "df_merge_copy['count'] = df_merge_copy.groupby('eFUA_ID')['Id'].transform(lambda x: x.count())"
   ]
  },
  {
   "cell_type": "code",
   "execution_count": null,
   "id": "5d03dda8-2cbc-44dd-8d9f-7027f8722dac",
   "metadata": {},
   "outputs": [],
   "source": [
    "df_merge_country = df_merge_copy.loc[(df_merge_copy['count']>10), ['Cntry_ISO','Cntry_name','Regions','udi19wn']]"
   ]
  },
  {
   "cell_type": "code",
   "execution_count": null,
   "id": "72f3a01c-e649-4992-bb95-7bc397544050",
   "metadata": {},
   "outputs": [],
   "source": [
    "def in_qrange(ser, q):\n",
    "    return ser.between(*ser.quantile(q=q))"
   ]
  },
  {
   "cell_type": "code",
   "execution_count": null,
   "id": "cef39c2a-a09e-418f-abab-89e51c510a92",
   "metadata": {},
   "outputs": [],
   "source": [
    "df_merge_country_p99 = df_merge_country.loc[df_merge_country.groupby(['Cntry_ISO','Cntry_name','Regions'])['udi19wn'].transform(in_qrange, q=[0.01, 0.99])]"
   ]
  },
  {
   "cell_type": "code",
   "execution_count": null,
   "id": "b36d741d-270d-42da-8233-8f5787393d2a",
   "metadata": {},
   "outputs": [],
   "source": [
    "df_merge_country_p99_std = df_merge_country_p99.loc[:,['Cntry_ISO','Cntry_name','Regions','udi19wn']].groupby(['Cntry_ISO','Cntry_name','Regions']).std()\n",
    "df_merge_country_p99_mean = df_merge_country_p99.loc[:,['Cntry_ISO','Cntry_name','Regions','udi19wn']].groupby(['Cntry_ISO','Cntry_name','Regions']).mean()\n",
    "df_merge_country_p99_sum = df_merge_country_p99.loc[:,['Cntry_ISO','Cntry_name','Regions','udi19wn']].groupby(['Cntry_ISO','Cntry_name','Regions']).sum()\n",
    "df_merge_country_p99_inq = df_merge_country_p99_std/(np.sqrt(df_merge_country_p99_mean*(1-df_merge_country_p99_mean)))\n",
    "def get_gini(data):\n",
    "    return gini(np.array(data))\n",
    "df_merge_country_p99_gini =  df_merge_country_p99.loc[:,['Cntry_ISO','Cntry_name','Regions','udi19wn']].groupby(['Cntry_ISO','Cntry_name','Regions']).aggregate({'udi19wn':get_gini})\n",
    "## to csv gini\n",
    "df_merge_country_p99_sum.rename(columns = {'udi19wn':'sum'}).join(df_merge_country_p99_mean.rename(columns = {'udi19wn':'mean'})).join(df_merge_country_p99_gini.rename(columns = {'udi19wn':'gini'})).sort_values('gini').to_csv('20230806udi_country.csv')"
   ]
  },
  {
   "cell_type": "code",
   "execution_count": null,
   "id": "4d725000-59a9-4e30-b82e-8a844aed78ae",
   "metadata": {},
   "outputs": [],
   "source": []
  },
  {
   "cell_type": "code",
   "execution_count": null,
   "id": "614f1afa-f428-46ed-ae79-55fcdd6061a5",
   "metadata": {},
   "outputs": [],
   "source": [
    "df_merge_country_p99_sum_pre = df_merge_country_p99_sum.reset_index().sort_values('udi19wn', ascending=False)\n",
    "df_merge_country_p99_sum_pre['udi19wn%'] = df_merge_country_p99_sum_pre['udi19wn']/(df_merge_country_p99_sum_pre['udi19wn'].sum())\n",
    "df_merge_country_p99_sum_pre.iloc[:10,:]"
   ]
  },
  {
   "cell_type": "code",
   "execution_count": null,
   "id": "cccd0f9c-d570-4fce-8faa-f923192cd7bc",
   "metadata": {},
   "outputs": [],
   "source": [
    "df_merge_copy.loc[(df_merge_copy['count']>10),['built01', 'pop_log01','Length_total01', 'ntl_log01', 'udi19w']].rename(columns={'built01':'Built',\n",
    "                                                                                                                                'pop_log01':'Pop','Length_total01':'Roads',\n",
    "                                                                                                                                'ntl_log01':'NTL','udi19w':'UDI'}).to_csv('20230816corrplot.csv', index=False)"
   ]
  },
  {
   "cell_type": "code",
   "execution_count": null,
   "id": "c9fbcdec-2dee-4b73-9b81-cd71e5ec8568",
   "metadata": {},
   "outputs": [],
   "source": [
    "import libpysal\n",
    "import splot\n",
    "import pysal\n",
    "from esda.moran import Moran_Local_BV\n",
    "from splot.esda import moran_scatterplot\n",
    "from libpysal.weights.spatial_lag import lag_spatial"
   ]
  },
  {
   "cell_type": "code",
   "execution_count": null,
   "id": "4a428681-e1bf-4452-a38b-6e177a7d2de5",
   "metadata": {},
   "outputs": [],
   "source": [
    "y = fua_mean_gini['gini'].values\n",
    "x = fua_mean_gini['mean'].values\n",
    "w = libpysal.weights.KNN.from_dataframe(fua_mean_gini, k=10, ids='eFUA_ID')\n",
    "# w = libpysal.weights.DistanceBand.from_dataframe(fua_mean_gini, threshold=100000, binary=False, alpha=-2.)\n",
    "moran_loc_bv = Moran_Local_BV(x, y, w)\n",
    "fig, ax = moran_scatterplot(moran_loc_bv, p=0.05)\n",
    "ax.set_xlabel('Inequality')\n",
    "ax.set_ylabel('Spatially Lag of inequality')\n",
    "plt.show()"
   ]
  },
  {
   "cell_type": "code",
   "execution_count": null,
   "id": "8fa6ab3b-9655-45c6-a543-c11a5ff95498",
   "metadata": {},
   "outputs": [],
   "source": [
    "from libpysal.weights.spatial_lag import lag_spatial\n",
    "lag = lag_spatial(moran_loc_bv.w, moran_loc_bv.zy)\n",
    "# x = moran_loc_bv.zx"
   ]
  },
  {
   "cell_type": "code",
   "execution_count": null,
   "id": "f028e22c-2879-42b2-b721-4b69e6cae21b",
   "metadata": {},
   "outputs": [],
   "source": [
    "fua_mean_gini_moran = pd.DataFrame({'x_Is':moran_loc_bv.zx,\n",
    "                                    'y_Lag':lag_spatial(moran_loc_bv.w, moran_loc_bv.zy),\n",
    "                                    'p_sim':moran_loc_bv.p_sim,\n",
    "                                    'label':moran_loc_bv.q})"
   ]
  }
 ],
 "metadata": {
  "kernelspec": {
   "display_name": "gpd",
   "language": "python",
   "name": "gpd"
  },
  "language_info": {
   "codemirror_mode": {
    "name": "ipython",
    "version": 3
   },
   "file_extension": ".py",
   "mimetype": "text/x-python",
   "name": "python",
   "nbconvert_exporter": "python",
   "pygments_lexer": "ipython3",
   "version": "3.8.16"
  },
  "widgets": {
   "application/vnd.jupyter.widget-state+json": {
    "state": {},
    "version_major": 2,
    "version_minor": 0
   }
  }
 },
 "nbformat": 4,
 "nbformat_minor": 5
}
